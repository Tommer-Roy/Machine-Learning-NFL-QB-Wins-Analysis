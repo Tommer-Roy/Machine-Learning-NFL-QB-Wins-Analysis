{
  "cells": [
    {
      "cell_type": "code",
      "execution_count": 2,
      "metadata": {
        "id": "FiE9ZI1cwbgN"
      },
      "outputs": [],
      "source": [
        "import pandas as pd\n",
        "import numpy as np\n",
        "import matplotlib.pyplot as plt\n",
        "import seaborn as sns\n",
        "from sklearn.preprocessing import MinMaxScaler\n",
        "from sklearn.model_selection import train_test_split\n",
        "from sklearn.tree import DecisionTreeRegressor\n",
        "from sklearn.metrics import mean_absolute_error\n",
        "from sklearn.metrics import mean_squared_error\n",
        "from sklearn.metrics import r2_score\n",
        "from pylab import *\n",
        "from sklearn.metrics import classification_report\n",
        "from sklearn.metrics import confusion_matrix\n",
        "from sklearn.linear_model import Ridge, RidgeCV\n",
        "\n"
      ]
    },
    {
      "cell_type": "code",
      "execution_count": 4,
      "metadata": {
        "colab": {
          "base_uri": "https://localhost:8080/"
        },
        "id": "cHd0EeaocZP9",
        "outputId": "ef92ae6d-9f4e-4730-a6f8-fcd879426650"
      },
      "outputs": [
        {
          "name": "stdout",
          "output_type": "stream",
          "text": [
            "Mounted at /content/drive\n"
          ]
        }
      ],
      "source": [
        "from google.colab import drive\n",
        "drive.mount('/content/drive')"
      ]
    },
    {
      "cell_type": "code",
      "execution_count": 5,
      "metadata": {
        "id": "ZUm4TNJq8KOb"
      },
      "outputs": [],
      "source": [
        "df = pd.read_excel('/content/drive/MyDrive/NFL_Passing_Stats.xlsx')"
      ]
    },
    {
      "cell_type": "code",
      "execution_count": 24,
      "metadata": {
        "colab": {
          "base_uri": "https://localhost:8080/",
          "height": 236
        },
        "id": "_PYzH0XKe747",
        "outputId": "25bef81c-c502-40c5-d7de-0613b90e62d7"
      },
      "outputs": [
        {
          "data": {
            "text/html": [
              "\n",
              "  <div id=\"df-fe02306d-f502-479b-88b3-24c3f9044d95\">\n",
              "    <div class=\"colab-df-container\">\n",
              "      <div>\n",
              "<style scoped>\n",
              "    .dataframe tbody tr th:only-of-type {\n",
              "        vertical-align: middle;\n",
              "    }\n",
              "\n",
              "    .dataframe tbody tr th {\n",
              "        vertical-align: top;\n",
              "    }\n",
              "\n",
              "    .dataframe thead th {\n",
              "        text-align: right;\n",
              "    }\n",
              "</style>\n",
              "<table border=\"1\" class=\"dataframe\">\n",
              "  <thead>\n",
              "    <tr style=\"text-align: right;\">\n",
              "      <th></th>\n",
              "      <th>Rk</th>\n",
              "      <th>Tm</th>\n",
              "      <th>G</th>\n",
              "      <th>Cmp</th>\n",
              "      <th>Att</th>\n",
              "      <th>Cmp%</th>\n",
              "      <th>Yds</th>\n",
              "      <th>TD</th>\n",
              "      <th>TD%</th>\n",
              "      <th>Int</th>\n",
              "      <th>...</th>\n",
              "      <th>Y/G</th>\n",
              "      <th>Rate</th>\n",
              "      <th>Sk</th>\n",
              "      <th>Yds.1</th>\n",
              "      <th>Sk%</th>\n",
              "      <th>NY/A</th>\n",
              "      <th>ANY/A</th>\n",
              "      <th>4QC</th>\n",
              "      <th>GWD</th>\n",
              "      <th>EXP</th>\n",
              "    </tr>\n",
              "  </thead>\n",
              "  <tbody>\n",
              "    <tr>\n",
              "      <th>0</th>\n",
              "      <td>1</td>\n",
              "      <td>Tampa Bay Buccaneers</td>\n",
              "      <td>17</td>\n",
              "      <td>492</td>\n",
              "      <td>731</td>\n",
              "      <td>67.3</td>\n",
              "      <td>5229</td>\n",
              "      <td>43</td>\n",
              "      <td>5.9</td>\n",
              "      <td>12</td>\n",
              "      <td>...</td>\n",
              "      <td>307.6</td>\n",
              "      <td>101.6</td>\n",
              "      <td>23</td>\n",
              "      <td>154</td>\n",
              "      <td>3.1</td>\n",
              "      <td>6.9</td>\n",
              "      <td>7.4</td>\n",
              "      <td>3</td>\n",
              "      <td>5</td>\n",
              "      <td>197.87</td>\n",
              "    </tr>\n",
              "    <tr>\n",
              "      <th>1</th>\n",
              "      <td>2</td>\n",
              "      <td>Los Angeles Chargers</td>\n",
              "      <td>17</td>\n",
              "      <td>443</td>\n",
              "      <td>674</td>\n",
              "      <td>65.7</td>\n",
              "      <td>4800</td>\n",
              "      <td>38</td>\n",
              "      <td>5.6</td>\n",
              "      <td>15</td>\n",
              "      <td>...</td>\n",
              "      <td>282.4</td>\n",
              "      <td>97.4</td>\n",
              "      <td>31</td>\n",
              "      <td>214</td>\n",
              "      <td>4.4</td>\n",
              "      <td>6.8</td>\n",
              "      <td>6.9</td>\n",
              "      <td>5</td>\n",
              "      <td>5</td>\n",
              "      <td>168.57</td>\n",
              "    </tr>\n",
              "    <tr>\n",
              "      <th>2</th>\n",
              "      <td>3</td>\n",
              "      <td>Dallas Cowboys</td>\n",
              "      <td>17</td>\n",
              "      <td>444</td>\n",
              "      <td>647</td>\n",
              "      <td>68.6</td>\n",
              "      <td>4800</td>\n",
              "      <td>40</td>\n",
              "      <td>6.2</td>\n",
              "      <td>11</td>\n",
              "      <td>...</td>\n",
              "      <td>282.4</td>\n",
              "      <td>104.8</td>\n",
              "      <td>33</td>\n",
              "      <td>163</td>\n",
              "      <td>4.9</td>\n",
              "      <td>7.1</td>\n",
              "      <td>7.5</td>\n",
              "      <td>2</td>\n",
              "      <td>3</td>\n",
              "      <td>161.67</td>\n",
              "    </tr>\n",
              "    <tr>\n",
              "      <th>3</th>\n",
              "      <td>4</td>\n",
              "      <td>Kansas City Chiefs</td>\n",
              "      <td>17</td>\n",
              "      <td>448</td>\n",
              "      <td>675</td>\n",
              "      <td>66.4</td>\n",
              "      <td>4791</td>\n",
              "      <td>37</td>\n",
              "      <td>5.5</td>\n",
              "      <td>13</td>\n",
              "      <td>...</td>\n",
              "      <td>281.8</td>\n",
              "      <td>98.1</td>\n",
              "      <td>28</td>\n",
              "      <td>146</td>\n",
              "      <td>4.0</td>\n",
              "      <td>6.8</td>\n",
              "      <td>7.0</td>\n",
              "      <td>3</td>\n",
              "      <td>3</td>\n",
              "      <td>236.96</td>\n",
              "    </tr>\n",
              "    <tr>\n",
              "      <th>4</th>\n",
              "      <td>5</td>\n",
              "      <td>Los Angeles Rams</td>\n",
              "      <td>17</td>\n",
              "      <td>406</td>\n",
              "      <td>607</td>\n",
              "      <td>66.9</td>\n",
              "      <td>4642</td>\n",
              "      <td>41</td>\n",
              "      <td>6.8</td>\n",
              "      <td>18</td>\n",
              "      <td>...</td>\n",
              "      <td>273.1</td>\n",
              "      <td>101.6</td>\n",
              "      <td>31</td>\n",
              "      <td>251</td>\n",
              "      <td>4.9</td>\n",
              "      <td>7.3</td>\n",
              "      <td>7.3</td>\n",
              "      <td>3</td>\n",
              "      <td>4</td>\n",
              "      <td>237.30</td>\n",
              "    </tr>\n",
              "  </tbody>\n",
              "</table>\n",
              "<p>5 rows × 25 columns</p>\n",
              "</div>\n",
              "      <button class=\"colab-df-convert\" onclick=\"convertToInteractive('df-fe02306d-f502-479b-88b3-24c3f9044d95')\"\n",
              "              title=\"Convert this dataframe to an interactive table.\"\n",
              "              style=\"display:none;\">\n",
              "        \n",
              "  <svg xmlns=\"http://www.w3.org/2000/svg\" height=\"24px\"viewBox=\"0 0 24 24\"\n",
              "       width=\"24px\">\n",
              "    <path d=\"M0 0h24v24H0V0z\" fill=\"none\"/>\n",
              "    <path d=\"M18.56 5.44l.94 2.06.94-2.06 2.06-.94-2.06-.94-.94-2.06-.94 2.06-2.06.94zm-11 1L8.5 8.5l.94-2.06 2.06-.94-2.06-.94L8.5 2.5l-.94 2.06-2.06.94zm10 10l.94 2.06.94-2.06 2.06-.94-2.06-.94-.94-2.06-.94 2.06-2.06.94z\"/><path d=\"M17.41 7.96l-1.37-1.37c-.4-.4-.92-.59-1.43-.59-.52 0-1.04.2-1.43.59L10.3 9.45l-7.72 7.72c-.78.78-.78 2.05 0 2.83L4 21.41c.39.39.9.59 1.41.59.51 0 1.02-.2 1.41-.59l7.78-7.78 2.81-2.81c.8-.78.8-2.07 0-2.86zM5.41 20L4 18.59l7.72-7.72 1.47 1.35L5.41 20z\"/>\n",
              "  </svg>\n",
              "      </button>\n",
              "      \n",
              "  <style>\n",
              "    .colab-df-container {\n",
              "      display:flex;\n",
              "      flex-wrap:wrap;\n",
              "      gap: 12px;\n",
              "    }\n",
              "\n",
              "    .colab-df-convert {\n",
              "      background-color: #E8F0FE;\n",
              "      border: none;\n",
              "      border-radius: 50%;\n",
              "      cursor: pointer;\n",
              "      display: none;\n",
              "      fill: #1967D2;\n",
              "      height: 32px;\n",
              "      padding: 0 0 0 0;\n",
              "      width: 32px;\n",
              "    }\n",
              "\n",
              "    .colab-df-convert:hover {\n",
              "      background-color: #E2EBFA;\n",
              "      box-shadow: 0px 1px 2px rgba(60, 64, 67, 0.3), 0px 1px 3px 1px rgba(60, 64, 67, 0.15);\n",
              "      fill: #174EA6;\n",
              "    }\n",
              "\n",
              "    [theme=dark] .colab-df-convert {\n",
              "      background-color: #3B4455;\n",
              "      fill: #D2E3FC;\n",
              "    }\n",
              "\n",
              "    [theme=dark] .colab-df-convert:hover {\n",
              "      background-color: #434B5C;\n",
              "      box-shadow: 0px 1px 3px 1px rgba(0, 0, 0, 0.15);\n",
              "      filter: drop-shadow(0px 1px 2px rgba(0, 0, 0, 0.3));\n",
              "      fill: #FFFFFF;\n",
              "    }\n",
              "  </style>\n",
              "\n",
              "      <script>\n",
              "        const buttonEl =\n",
              "          document.querySelector('#df-fe02306d-f502-479b-88b3-24c3f9044d95 button.colab-df-convert');\n",
              "        buttonEl.style.display =\n",
              "          google.colab.kernel.accessAllowed ? 'block' : 'none';\n",
              "\n",
              "        async function convertToInteractive(key) {\n",
              "          const element = document.querySelector('#df-fe02306d-f502-479b-88b3-24c3f9044d95');\n",
              "          const dataTable =\n",
              "            await google.colab.kernel.invokeFunction('convertToInteractive',\n",
              "                                                     [key], {});\n",
              "          if (!dataTable) return;\n",
              "\n",
              "          const docLinkHtml = 'Like what you see? Visit the ' +\n",
              "            '<a target=\"_blank\" href=https://colab.research.google.com/notebooks/data_table.ipynb>data table notebook</a>'\n",
              "            + ' to learn more about interactive tables.';\n",
              "          element.innerHTML = '';\n",
              "          dataTable['output_type'] = 'display_data';\n",
              "          await google.colab.output.renderOutput(dataTable, element);\n",
              "          const docLink = document.createElement('div');\n",
              "          docLink.innerHTML = docLinkHtml;\n",
              "          element.appendChild(docLink);\n",
              "        }\n",
              "      </script>\n",
              "    </div>\n",
              "  </div>\n",
              "  "
            ],
            "text/plain": [
              "   Rk                    Tm   G  Cmp  Att  Cmp%   Yds  TD  TD%  Int  ...  \\\n",
              "0   1  Tampa Bay Buccaneers  17  492  731  67.3  5229  43  5.9   12  ...   \n",
              "1   2  Los Angeles Chargers  17  443  674  65.7  4800  38  5.6   15  ...   \n",
              "2   3        Dallas Cowboys  17  444  647  68.6  4800  40  6.2   11  ...   \n",
              "3   4    Kansas City Chiefs  17  448  675  66.4  4791  37  5.5   13  ...   \n",
              "4   5      Los Angeles Rams  17  406  607  66.9  4642  41  6.8   18  ...   \n",
              "\n",
              "     Y/G   Rate  Sk  Yds.1  Sk%  NY/A  ANY/A  4QC  GWD     EXP  \n",
              "0  307.6  101.6  23    154  3.1   6.9    7.4    3    5  197.87  \n",
              "1  282.4   97.4  31    214  4.4   6.8    6.9    5    5  168.57  \n",
              "2  282.4  104.8  33    163  4.9   7.1    7.5    2    3  161.67  \n",
              "3  281.8   98.1  28    146  4.0   6.8    7.0    3    3  236.96  \n",
              "4  273.1  101.6  31    251  4.9   7.3    7.3    3    4  237.30  \n",
              "\n",
              "[5 rows x 25 columns]"
            ]
          },
          "execution_count": 24,
          "metadata": {},
          "output_type": "execute_result"
        }
      ],
      "source": [
        "df.head()"
      ]
    },
    {
      "cell_type": "code",
      "execution_count": 25,
      "metadata": {
        "colab": {
          "base_uri": "https://localhost:8080/"
        },
        "id": "Brkg4IBLfNbz",
        "outputId": "374ad8c6-315b-44d4-bcd6-9d03ef734818"
      },
      "outputs": [
        {
          "data": {
            "text/plain": [
              "(32, 25)"
            ]
          },
          "execution_count": 25,
          "metadata": {},
          "output_type": "execute_result"
        }
      ],
      "source": [
        "df.shape\n"
      ]
    },
    {
      "cell_type": "code",
      "execution_count": null,
      "metadata": {
        "id": "C_6dznROiFt6"
      },
      "outputs": [],
      "source": [
        "df.drop('Tm', axis=1, inplace=True)\n",
        "df.drop('G', axis=1, inplace=True)\n",
        "df.drop('Rk', axis=1, inplace=True)\n",
        "#Dropping columns that are redundant or non-numerical such as team names and games played, as each team played 17 games. I also dropped the rank column, as this is redundant."
      ]
    },
    {
      "cell_type": "code",
      "execution_count": 29,
      "metadata": {
        "colab": {
          "base_uri": "https://localhost:8080/",
          "height": 236
        },
        "id": "EEG_xIrWkqpX",
        "outputId": "33c2c692-99bf-4379-c747-7d2dcb00a5a1"
      },
      "outputs": [
        {
          "data": {
            "text/html": [
              "\n",
              "  <div id=\"df-536ffd27-ca37-47a4-a879-0ee6e78595ac\">\n",
              "    <div class=\"colab-df-container\">\n",
              "      <div>\n",
              "<style scoped>\n",
              "    .dataframe tbody tr th:only-of-type {\n",
              "        vertical-align: middle;\n",
              "    }\n",
              "\n",
              "    .dataframe tbody tr th {\n",
              "        vertical-align: top;\n",
              "    }\n",
              "\n",
              "    .dataframe thead th {\n",
              "        text-align: right;\n",
              "    }\n",
              "</style>\n",
              "<table border=\"1\" class=\"dataframe\">\n",
              "  <thead>\n",
              "    <tr style=\"text-align: right;\">\n",
              "      <th></th>\n",
              "      <th>Cmp</th>\n",
              "      <th>Att</th>\n",
              "      <th>Cmp%</th>\n",
              "      <th>Yds</th>\n",
              "      <th>TD</th>\n",
              "      <th>TD%</th>\n",
              "      <th>Int</th>\n",
              "      <th>Int%</th>\n",
              "      <th>Lng</th>\n",
              "      <th>Y/A</th>\n",
              "      <th>...</th>\n",
              "      <th>Y/G</th>\n",
              "      <th>Rate</th>\n",
              "      <th>Sk</th>\n",
              "      <th>Yds.1</th>\n",
              "      <th>Sk%</th>\n",
              "      <th>NY/A</th>\n",
              "      <th>ANY/A</th>\n",
              "      <th>4QC</th>\n",
              "      <th>GWD</th>\n",
              "      <th>EXP</th>\n",
              "    </tr>\n",
              "  </thead>\n",
              "  <tbody>\n",
              "    <tr>\n",
              "      <th>0</th>\n",
              "      <td>492</td>\n",
              "      <td>731</td>\n",
              "      <td>67.3</td>\n",
              "      <td>5229</td>\n",
              "      <td>43</td>\n",
              "      <td>5.9</td>\n",
              "      <td>12</td>\n",
              "      <td>1.6</td>\n",
              "      <td>62</td>\n",
              "      <td>7.4</td>\n",
              "      <td>...</td>\n",
              "      <td>307.6</td>\n",
              "      <td>101.6</td>\n",
              "      <td>23</td>\n",
              "      <td>154</td>\n",
              "      <td>3.1</td>\n",
              "      <td>6.9</td>\n",
              "      <td>7.4</td>\n",
              "      <td>3</td>\n",
              "      <td>5</td>\n",
              "      <td>197.87</td>\n",
              "    </tr>\n",
              "    <tr>\n",
              "      <th>1</th>\n",
              "      <td>443</td>\n",
              "      <td>674</td>\n",
              "      <td>65.7</td>\n",
              "      <td>4800</td>\n",
              "      <td>38</td>\n",
              "      <td>5.6</td>\n",
              "      <td>15</td>\n",
              "      <td>2.2</td>\n",
              "      <td>72</td>\n",
              "      <td>7.4</td>\n",
              "      <td>...</td>\n",
              "      <td>282.4</td>\n",
              "      <td>97.4</td>\n",
              "      <td>31</td>\n",
              "      <td>214</td>\n",
              "      <td>4.4</td>\n",
              "      <td>6.8</td>\n",
              "      <td>6.9</td>\n",
              "      <td>5</td>\n",
              "      <td>5</td>\n",
              "      <td>168.57</td>\n",
              "    </tr>\n",
              "    <tr>\n",
              "      <th>2</th>\n",
              "      <td>444</td>\n",
              "      <td>647</td>\n",
              "      <td>68.6</td>\n",
              "      <td>4800</td>\n",
              "      <td>40</td>\n",
              "      <td>6.2</td>\n",
              "      <td>11</td>\n",
              "      <td>1.7</td>\n",
              "      <td>73</td>\n",
              "      <td>7.7</td>\n",
              "      <td>...</td>\n",
              "      <td>282.4</td>\n",
              "      <td>104.8</td>\n",
              "      <td>33</td>\n",
              "      <td>163</td>\n",
              "      <td>4.9</td>\n",
              "      <td>7.1</td>\n",
              "      <td>7.5</td>\n",
              "      <td>2</td>\n",
              "      <td>3</td>\n",
              "      <td>161.67</td>\n",
              "    </tr>\n",
              "    <tr>\n",
              "      <th>3</th>\n",
              "      <td>448</td>\n",
              "      <td>675</td>\n",
              "      <td>66.4</td>\n",
              "      <td>4791</td>\n",
              "      <td>37</td>\n",
              "      <td>5.5</td>\n",
              "      <td>13</td>\n",
              "      <td>1.9</td>\n",
              "      <td>75</td>\n",
              "      <td>7.3</td>\n",
              "      <td>...</td>\n",
              "      <td>281.8</td>\n",
              "      <td>98.1</td>\n",
              "      <td>28</td>\n",
              "      <td>146</td>\n",
              "      <td>4.0</td>\n",
              "      <td>6.8</td>\n",
              "      <td>7.0</td>\n",
              "      <td>3</td>\n",
              "      <td>3</td>\n",
              "      <td>236.96</td>\n",
              "    </tr>\n",
              "    <tr>\n",
              "      <th>4</th>\n",
              "      <td>406</td>\n",
              "      <td>607</td>\n",
              "      <td>66.9</td>\n",
              "      <td>4642</td>\n",
              "      <td>41</td>\n",
              "      <td>6.8</td>\n",
              "      <td>18</td>\n",
              "      <td>3.0</td>\n",
              "      <td>79</td>\n",
              "      <td>8.1</td>\n",
              "      <td>...</td>\n",
              "      <td>273.1</td>\n",
              "      <td>101.6</td>\n",
              "      <td>31</td>\n",
              "      <td>251</td>\n",
              "      <td>4.9</td>\n",
              "      <td>7.3</td>\n",
              "      <td>7.3</td>\n",
              "      <td>3</td>\n",
              "      <td>4</td>\n",
              "      <td>237.30</td>\n",
              "    </tr>\n",
              "  </tbody>\n",
              "</table>\n",
              "<p>5 rows × 22 columns</p>\n",
              "</div>\n",
              "      <button class=\"colab-df-convert\" onclick=\"convertToInteractive('df-536ffd27-ca37-47a4-a879-0ee6e78595ac')\"\n",
              "              title=\"Convert this dataframe to an interactive table.\"\n",
              "              style=\"display:none;\">\n",
              "        \n",
              "  <svg xmlns=\"http://www.w3.org/2000/svg\" height=\"24px\"viewBox=\"0 0 24 24\"\n",
              "       width=\"24px\">\n",
              "    <path d=\"M0 0h24v24H0V0z\" fill=\"none\"/>\n",
              "    <path d=\"M18.56 5.44l.94 2.06.94-2.06 2.06-.94-2.06-.94-.94-2.06-.94 2.06-2.06.94zm-11 1L8.5 8.5l.94-2.06 2.06-.94-2.06-.94L8.5 2.5l-.94 2.06-2.06.94zm10 10l.94 2.06.94-2.06 2.06-.94-2.06-.94-.94-2.06-.94 2.06-2.06.94z\"/><path d=\"M17.41 7.96l-1.37-1.37c-.4-.4-.92-.59-1.43-.59-.52 0-1.04.2-1.43.59L10.3 9.45l-7.72 7.72c-.78.78-.78 2.05 0 2.83L4 21.41c.39.39.9.59 1.41.59.51 0 1.02-.2 1.41-.59l7.78-7.78 2.81-2.81c.8-.78.8-2.07 0-2.86zM5.41 20L4 18.59l7.72-7.72 1.47 1.35L5.41 20z\"/>\n",
              "  </svg>\n",
              "      </button>\n",
              "      \n",
              "  <style>\n",
              "    .colab-df-container {\n",
              "      display:flex;\n",
              "      flex-wrap:wrap;\n",
              "      gap: 12px;\n",
              "    }\n",
              "\n",
              "    .colab-df-convert {\n",
              "      background-color: #E8F0FE;\n",
              "      border: none;\n",
              "      border-radius: 50%;\n",
              "      cursor: pointer;\n",
              "      display: none;\n",
              "      fill: #1967D2;\n",
              "      height: 32px;\n",
              "      padding: 0 0 0 0;\n",
              "      width: 32px;\n",
              "    }\n",
              "\n",
              "    .colab-df-convert:hover {\n",
              "      background-color: #E2EBFA;\n",
              "      box-shadow: 0px 1px 2px rgba(60, 64, 67, 0.3), 0px 1px 3px 1px rgba(60, 64, 67, 0.15);\n",
              "      fill: #174EA6;\n",
              "    }\n",
              "\n",
              "    [theme=dark] .colab-df-convert {\n",
              "      background-color: #3B4455;\n",
              "      fill: #D2E3FC;\n",
              "    }\n",
              "\n",
              "    [theme=dark] .colab-df-convert:hover {\n",
              "      background-color: #434B5C;\n",
              "      box-shadow: 0px 1px 3px 1px rgba(0, 0, 0, 0.15);\n",
              "      filter: drop-shadow(0px 1px 2px rgba(0, 0, 0, 0.3));\n",
              "      fill: #FFFFFF;\n",
              "    }\n",
              "  </style>\n",
              "\n",
              "      <script>\n",
              "        const buttonEl =\n",
              "          document.querySelector('#df-536ffd27-ca37-47a4-a879-0ee6e78595ac button.colab-df-convert');\n",
              "        buttonEl.style.display =\n",
              "          google.colab.kernel.accessAllowed ? 'block' : 'none';\n",
              "\n",
              "        async function convertToInteractive(key) {\n",
              "          const element = document.querySelector('#df-536ffd27-ca37-47a4-a879-0ee6e78595ac');\n",
              "          const dataTable =\n",
              "            await google.colab.kernel.invokeFunction('convertToInteractive',\n",
              "                                                     [key], {});\n",
              "          if (!dataTable) return;\n",
              "\n",
              "          const docLinkHtml = 'Like what you see? Visit the ' +\n",
              "            '<a target=\"_blank\" href=https://colab.research.google.com/notebooks/data_table.ipynb>data table notebook</a>'\n",
              "            + ' to learn more about interactive tables.';\n",
              "          element.innerHTML = '';\n",
              "          dataTable['output_type'] = 'display_data';\n",
              "          await google.colab.output.renderOutput(dataTable, element);\n",
              "          const docLink = document.createElement('div');\n",
              "          docLink.innerHTML = docLinkHtml;\n",
              "          element.appendChild(docLink);\n",
              "        }\n",
              "      </script>\n",
              "    </div>\n",
              "  </div>\n",
              "  "
            ],
            "text/plain": [
              "   Cmp  Att  Cmp%   Yds  TD  TD%  Int  Int%  Lng  Y/A  ...    Y/G   Rate  Sk  \\\n",
              "0  492  731  67.3  5229  43  5.9   12   1.6   62  7.4  ...  307.6  101.6  23   \n",
              "1  443  674  65.7  4800  38  5.6   15   2.2   72  7.4  ...  282.4   97.4  31   \n",
              "2  444  647  68.6  4800  40  6.2   11   1.7   73  7.7  ...  282.4  104.8  33   \n",
              "3  448  675  66.4  4791  37  5.5   13   1.9   75  7.3  ...  281.8   98.1  28   \n",
              "4  406  607  66.9  4642  41  6.8   18   3.0   79  8.1  ...  273.1  101.6  31   \n",
              "\n",
              "   Yds.1  Sk%  NY/A  ANY/A  4QC  GWD     EXP  \n",
              "0    154  3.1   6.9    7.4    3    5  197.87  \n",
              "1    214  4.4   6.8    6.9    5    5  168.57  \n",
              "2    163  4.9   7.1    7.5    2    3  161.67  \n",
              "3    146  4.0   6.8    7.0    3    3  236.96  \n",
              "4    251  4.9   7.3    7.3    3    4  237.30  \n",
              "\n",
              "[5 rows x 22 columns]"
            ]
          },
          "execution_count": 29,
          "metadata": {},
          "output_type": "execute_result"
        }
      ],
      "source": [
        "df.head()"
      ]
    },
    {
      "cell_type": "code",
      "execution_count": 6,
      "metadata": {
        "colab": {
          "base_uri": "https://localhost:8080/"
        },
        "id": "qvDVqfZU5F5-",
        "outputId": "9e07c2ca-d176-478f-a4e7-85140c066f34"
      },
      "outputs": [
        {
          "name": "stdout",
          "output_type": "stream",
          "text": [
            "<class 'pandas.core.frame.DataFrame'>\n",
            "RangeIndex: 32 entries, 0 to 31\n",
            "Data columns (total 25 columns):\n",
            " #   Column  Non-Null Count  Dtype  \n",
            "---  ------  --------------  -----  \n",
            " 0   Rk      32 non-null     int64  \n",
            " 1   Tm      32 non-null     object \n",
            " 2   G       32 non-null     int64  \n",
            " 3   Cmp     32 non-null     int64  \n",
            " 4   Att     32 non-null     int64  \n",
            " 5   Cmp%    32 non-null     float64\n",
            " 6   Yds     32 non-null     int64  \n",
            " 7   TD      32 non-null     int64  \n",
            " 8   TD%     32 non-null     float64\n",
            " 9   Int     32 non-null     int64  \n",
            " 10  Int%    32 non-null     float64\n",
            " 11  Lng     32 non-null     int64  \n",
            " 12  Y/A     32 non-null     float64\n",
            " 13  AY/A    32 non-null     float64\n",
            " 14  Y/C     32 non-null     float64\n",
            " 15  Y/G     32 non-null     float64\n",
            " 16  Rate    32 non-null     float64\n",
            " 17  Sk      32 non-null     int64  \n",
            " 18  Yds.1   32 non-null     int64  \n",
            " 19  Sk%     32 non-null     float64\n",
            " 20  NY/A    32 non-null     float64\n",
            " 21  ANY/A   32 non-null     float64\n",
            " 22  4QC     32 non-null     int64  \n",
            " 23  GWD     32 non-null     int64  \n",
            " 24  EXP     32 non-null     float64\n",
            "dtypes: float64(12), int64(12), object(1)\n",
            "memory usage: 6.4+ KB\n"
          ]
        }
      ],
      "source": [
        "df.info()"
      ]
    },
    {
      "cell_type": "markdown",
      "metadata": {
        "id": "3Ma8i1ErxPce"
      },
      "source": [
        "Now it's your time to analyze (i.e., create model + evaluate) this data with a decision tree regressor.\n",
        "\n",
        "Please also visualize the tree. You can also try to specify different arguments here to create different trees. For example, `max_depth=3` or `max_depth=4`.\n",
        "\n",
        "Documentation: https://scikit-learn.org/stable/modules/generated/sklearn.tree.DecisionTreeRegressor.html#sklearn.tree.DecisionTreeRegressor\n",
        "\n",
        "**Please include some comments to make your code easier to read.**\n"
      ]
    },
    {
      "cell_type": "code",
      "execution_count": 43,
      "metadata": {
        "id": "b2sUz9UIGSmI"
      },
      "outputs": [],
      "source": [
        "X = df.drop('EXP', axis = 1)\n",
        "y = df['EXP']\n",
        "#Setting my X variable to everything besides expected points, as expected points is my dependent variable. As a result this is my Y variable"
      ]
    },
    {
      "cell_type": "code",
      "execution_count": 123,
      "metadata": {
        "colab": {
          "base_uri": "https://localhost:8080/",
          "height": 279
        },
        "id": "vOYtSx956jT3",
        "outputId": "6717ad46-9862-47d7-8170-80c2c756d7ea"
      },
      "outputs": [
        {
          "data": {
            "image/png": "[encoded data removed]",
            "text/plain": [
              "<Figure size 432x288 with 1 Axes>"
            ]
          },
          "metadata": {
            "needs_background": "light"
          },
          "output_type": "display_data"
        }
      ],
      "source": [
        "sns.kdeplot(x=df['EXP'])\n",
        "show()"
      ]
    },
    {
      "cell_type": "code",
      "execution_count": 128,
      "metadata": {
        "colab": {
          "base_uri": "https://localhost:8080/",
          "height": 391
        },
        "id": "W_R-xhJ28q2j",
        "outputId": "9505f700-9d75-49c8-a11b-e4be5476c7a6"
      },
      "outputs": [
        {
          "data": {
            "text/plain": [
              "<seaborn.axisgrid.PairGrid at 0x7f435bed2c90>"
            ]
          },
          "execution_count": 128,
          "metadata": {},
          "output_type": "execute_result"
        },
        {
          "data": {
            "image/png": "[encoded data removed]",
            "text/plain": [
              "<Figure size 360x360 with 6 Axes>"
            ]
          },
          "metadata": {
            "needs_background": "light"
          },
          "output_type": "display_data"
        }
      ],
      "source": [
        "import pandas as pd\n",
        "import matplotlib.pyplot as plt\n",
        "import seaborn as sns\n",
        "\n",
        "\n",
        "sns.pairplot(df[['ANY/A', 'EXP']])\n",
        "#Creating a pairplot to see the relationship between the dependent variable and another common predictor of success, average net yards per attempt"
      ]
    },
    {
      "cell_type": "code",
      "execution_count": 92,
      "metadata": {
        "id": "qGaFw_XqG30g"
      },
      "outputs": [],
      "source": [
        "X_train, X_test, y_train, y_test = train_test_split(X,y, test_size = 0.2, shuffle = True, random_state = 2032019)\n",
        "#split test and train data"
      ]
    },
    {
      "cell_type": "code",
      "execution_count": 93,
      "metadata": {
        "id": "5eCr7v1lGSr2"
      },
      "outputs": [],
      "source": [
        "X_train = np.array(X_train)\n",
        "X_test = np.array(X_test)\n",
        "y_train = np.array(y_train)\n",
        "y_test = np.array(y_test)\n",
        "#convert test and train data to numpy array"
      ]
    },
    {
      "cell_type": "code",
      "execution_count": 78,
      "metadata": {
        "id": "svZ3W7PoGSvu"
      },
      "outputs": [],
      "source": [
        "scaler = MinMaxScaler()\n",
        "X_train = scaler.fit_transform(X_train)\n",
        "X_test = scaler.transform(X_test)\n",
        "#bring x values all to same scale"
      ]
    },
    {
      "cell_type": "code",
      "execution_count": 79,
      "metadata": {
        "id": "9QAg3KBDGSz1"
      },
      "outputs": [],
      "source": [
        "RR = Ridge(alpha=1)\n",
        "RR = RR.fit(X_train, y_train)\n",
        "#Using Ridge method initially\n"
      ]
    },
    {
      "cell_type": "code",
      "execution_count": 96,
      "metadata": {
        "id": "u3HPvy0DgjnI"
      },
      "outputs": [],
      "source": [
        "train_preds_RR = RR.predict(X_train)\n",
        "test_preds_RR = RR.predict(X_test)"
      ]
    },
    {
      "cell_type": "code",
      "execution_count": 97,
      "metadata": {
        "colab": {
          "base_uri": "https://localhost:8080/"
        },
        "id": "Bzr6yPEkvIAA",
        "outputId": "de4c7793-1f9e-43fe-f3d4-3ef590c3ac4e"
      },
      "outputs": [
        {
          "name": "stdout",
          "output_type": "stream",
          "text": [
            "Alpha:0.010, R2:0.96622, MSE:221.12610, RMSE:14.87031\n",
            "Alpha:0.050, R2:0.96103, MSE:255.13620, RMSE:15.97298\n",
            "Alpha:0.100, R2:0.95859, MSE:271.07917, RMSE:16.46448\n",
            "Alpha:0.500, R2:0.95173, MSE:315.99505, RMSE:17.77625\n",
            "Alpha:1.000, R2:0.94956, MSE:330.16206, RMSE:18.17036\n"
          ]
        }
      ],
      "source": [
        "#Now we select our best alpha\n",
        "alphas = [0.01, 0.05, 0.1, 0.5, 1]\n",
        "\n",
        "for a in alphas:\n",
        "  model = Ridge(alpha=a).fit(X_train, y_train) \n",
        "  score = model.score(X_train, y_train)\n",
        "  pred_y = model.predict(X_train)\n",
        "  mse = mean_squared_error(y_train, pred_y) \n",
        "  print(\"Alpha:{0:.3f}, R2:{1:.5f}, MSE:{2:.5f}, RMSE:{3:.5f}\".format(a, score, mse, np.sqrt(mse)))\n",
        "\n",
        "# I want to see a bigger R2, smaller MSE, smaller RMSE"
      ]
    },
    {
      "cell_type": "code",
      "execution_count": 98,
      "metadata": {
        "id": "m9JJtzODv4Hz"
      },
      "outputs": [],
      "source": [
        "RR_best = RR = Ridge(alpha=0.01)\n",
        "RR_best = RR_best.fit(X_train, y_train)\n",
        "\n",
        "# store the predictions\n",
        "train_preds = RR_best.predict(X_train) \n",
        "test_preds = RR_best.predict(X_test) "
      ]
    },
    {
      "cell_type": "code",
      "execution_count": 99,
      "metadata": {
        "colab": {
          "base_uri": "https://localhost:8080/"
        },
        "id": "4PYHzKieiLDR",
        "outputId": "fd06ab50-da49-4b9c-cfda-3fccaa7c8a59"
      },
      "outputs": [
        {
          "name": "stdout",
          "output_type": "stream",
          "text": [
            "This is train R2: 0.966220519641849\n",
            "This is test R2: 0.6404735068256564\n"
          ]
        }
      ],
      "source": [
        "# this is a regression problem, and there are three metrics to look at.\n",
        "# 1) R2 value - look at the documentation: actual, predicted\n",
        "print(\"This is train R2:\", r2_score(y_train, train_preds)) # train\n",
        "print(\"This is test R2:\", r2_score(y_test, test_preds)) # test\n",
        "\n",
        "# bigger numbers are better, values will be between 0 and 1"
      ]
    },
    {
      "cell_type": "code",
      "execution_count": 100,
      "metadata": {
        "colab": {
          "base_uri": "https://localhost:8080/"
        },
        "id": "2l3-VnJAin0Z",
        "outputId": "80dae052-9b92-4d2a-b0de-fa4413ea55d2"
      },
      "outputs": [
        {
          "name": "stdout",
          "output_type": "stream",
          "text": [
            "This is trainMAE: 11.473259987095293\n",
            "This is testMAE: 49.58885870156724\n"
          ]
        }
      ],
      "source": [
        "# 2) mae- look at the documentation: actual, predicted\n",
        "trainMAE = mean_absolute_error(y_train, train_preds)\n",
        "print(\"This is trainMAE:\", trainMAE) # train\n",
        "testMAE = mean_absolute_error(y_test, test_preds)\n",
        "print(\"This is testMAE:\", testMAE) # test\n",
        "\n",
        "# values between 0 and +Inf\n",
        "# values closer to 0 are better"
      ]
    },
    {
      "cell_type": "code",
      "execution_count": 104,
      "metadata": {
        "colab": {
          "base_uri": "https://localhost:8080/"
        },
        "id": "sp3YSR3bjCdK",
        "outputId": "deab4080-33d7-4c89-81d9-0e6f28384051"
      },
      "outputs": [
        {
          "name": "stdout",
          "output_type": "stream",
          "text": [
            "This is trainMSE: 221.12609843280526\n",
            "This is testMSE: 2811.85885440568\n"
          ]
        }
      ],
      "source": [
        "# 3) mse- look at the documentation: actual, predicted\n",
        "trainMSE = mean_squared_error(y_train, train_preds)\n",
        "print(\"This is trainMSE:\", trainMSE)\n",
        "testMSE = mean_squared_error(y_test, test_preds)\n",
        "print(\"This is testMSE:\", testMSE)\n",
        "\n",
        "# values between 0 and +Inf\n",
        "# values closer to 0 are better"
      ]
    },
    {
      "cell_type": "code",
      "execution_count": 103,
      "metadata": {
        "colab": {
          "base_uri": "https://localhost:8080/",
          "height": 431
        },
        "id": "-MncGwxPw0iM",
        "outputId": "d6c7378f-e129-4855-948f-107ab1a9f1d6"
      },
      "outputs": [
        {
          "data": {
            "image/png": "[encoded data removed]",
            "text/plain": [
              "<Figure size 576x432 with 1 Axes>"
            ]
          },
          "metadata": {
            "needs_background": "light"
          },
          "output_type": "display_data"
        }
      ],
      "source": [
        "# scatterplot for train results\n",
        "\n",
        "figure(figsize=(8, 6))\n",
        "scatter(x=y_train, y=train_preds)\n",
        "plot([0, 50], [0, 50], '--k') # 45 degree line\n",
        "axis('tight')\n",
        "xlabel('Actual Expected Points')\n",
        "ylabel('Predicted Expected Points')\n",
        "suptitle('Results')\n",
        "show()"
      ]
    },
    {
      "cell_type": "code",
      "execution_count": null,
      "metadata": {
        "id": "lP2SKz8v2lI2"
      },
      "outputs": [],
      "source": [
        "#Now we use Decision Tree Regression"
      ]
    },
    {
      "cell_type": "code",
      "execution_count": 76,
      "metadata": {
        "id": "9iIeaJpcz6a1"
      },
      "outputs": [],
      "source": [
        "from sklearn.linear_model import LogisticRegression # logistic\n",
        "from sklearn.metrics import classification_report\n",
        "from sklearn.metrics import confusion_matrix"
      ]
    },
    {
      "cell_type": "code",
      "execution_count": 94,
      "metadata": {
        "colab": {
          "base_uri": "https://localhost:8080/"
        },
        "id": "jjWVeGcz0HQa",
        "outputId": "8216d151-7e88-4519-d885-50038d4f1ff4"
      },
      "outputs": [
        {
          "name": "stdout",
          "output_type": "stream",
          "text": [
            "(25, 21) (7, 21) (25,) (7,)\n"
          ]
        }
      ],
      "source": [
        "print(X_train.shape, X_test.shape, y_train.shape, y_test.shape)\n"
      ]
    },
    {
      "cell_type": "code",
      "execution_count": 105,
      "metadata": {
        "id": "jUDvmgmC0JQf"
      },
      "outputs": [],
      "source": [
        "DTR = DecisionTreeRegressor() \n",
        "DTR = DTR.fit(X_train_r, y_train_r)\n"
      ]
    },
    {
      "cell_type": "code",
      "execution_count": 106,
      "metadata": {
        "id": "a0k_CG8O35Tt"
      },
      "outputs": [],
      "source": [
        "train_preds_DTR = DTR.predict(X_train_r) \n",
        "test_preds_DTR = DTR.predict(X_test_r) "
      ]
    },
    {
      "cell_type": "code",
      "execution_count": 107,
      "metadata": {
        "id": "Im2dx2j737ZM"
      },
      "outputs": [],
      "source": [
        "# here, we are searching different combinations of parameter\n",
        "parameters={\"splitter\":[\"best\",\"random\"],\n",
        "            \"max_depth\" : [1,3,5], # you can play with the number here\n",
        "           \"min_samples_leaf\":[1,2,3,4], # you can play with the number here\n",
        "           \"min_weight_fraction_leaf\":[0.1,0.2,0.3,0.4,0.5], # you can play with the number here\n",
        "           \"max_features\":[\"auto\",\"log2\"], # you can play with the number here\n",
        "           \"max_leaf_nodes\":[5, 10] } # you can play with the number here"
      ]
    },
    {
      "cell_type": "code",
      "execution_count": 108,
      "metadata": {
        "id": "WpqbX3od39cU"
      },
      "outputs": [],
      "source": [
        "from sklearn.model_selection import GridSearchCV"
      ]
    },
    {
      "cell_type": "code",
      "execution_count": 109,
      "metadata": {
        "id": "jPVfSyje3_JK"
      },
      "outputs": [],
      "source": [
        "tuning_model = GridSearchCV(DTR, param_grid=parameters, scoring='neg_mean_squared_error', cv=3, verbose=0)"
      ]
    },
    {
      "cell_type": "code",
      "execution_count": 110,
      "metadata": {
        "colab": {
          "base_uri": "https://localhost:8080/"
        },
        "id": "hNXkb7hl4AtI",
        "outputId": "f630eda7-22c0-4e8c-a2f8-7bf4f89711a1"
      },
      "outputs": [
        {
          "data": {
            "text/plain": [
              "GridSearchCV(cv=3, estimator=DecisionTreeRegressor(),\n",
              "             param_grid={'max_depth': [1, 3, 5],\n",
              "                         'max_features': ['auto', 'log2'],\n",
              "                         'max_leaf_nodes': [5, 10],\n",
              "                         'min_samples_leaf': [1, 2, 3, 4],\n",
              "                         'min_weight_fraction_leaf': [0.1, 0.2, 0.3, 0.4, 0.5],\n",
              "                         'splitter': ['best', 'random']},\n",
              "             scoring='neg_mean_squared_error')"
            ]
          },
          "execution_count": 110,
          "metadata": {},
          "output_type": "execute_result"
        }
      ],
      "source": [
        "tuning_model.fit(X_train_r,y_train_r)"
      ]
    },
    {
      "cell_type": "code",
      "execution_count": 112,
      "metadata": {
        "colab": {
          "base_uri": "https://localhost:8080/"
        },
        "id": "XZMuru7_4D4r",
        "outputId": "ed6ec31a-3a1f-4a92-f745-1568c67ee12a"
      },
      "outputs": [
        {
          "data": {
            "text/plain": [
              "{'max_depth': 5,\n",
              " 'max_features': 'auto',\n",
              " 'max_leaf_nodes': 10,\n",
              " 'min_samples_leaf': 4,\n",
              " 'min_weight_fraction_leaf': 0.2,\n",
              " 'splitter': 'random'}"
            ]
          },
          "execution_count": 112,
          "metadata": {},
          "output_type": "execute_result"
        }
      ],
      "source": [
        "tuning_model.best_params_\n",
        "#This output will tell us our best parameter combinations from our grid search"
      ]
    },
    {
      "cell_type": "code",
      "execution_count": 114,
      "metadata": {
        "id": "ZrJJZyrN4PzQ"
      },
      "outputs": [],
      "source": [
        "#We will now use the above output to define our best decision tree parameters\n",
        "best_tree = DecisionTreeRegressor(max_depth=5,\n",
        "                                  max_features='auto',\n",
        "                                  max_leaf_nodes=10,\n",
        "                                  min_samples_leaf=4,\n",
        "                                  min_weight_fraction_leaf=0.2,\n",
        "                                  splitter='random')"
      ]
    },
    {
      "cell_type": "code",
      "execution_count": 115,
      "metadata": {
        "id": "r4AmPlzg4ffj"
      },
      "outputs": [],
      "source": [
        "best_tree = best_tree.fit(X_train_r, y_train_r)"
      ]
    },
    {
      "cell_type": "code",
      "execution_count": 116,
      "metadata": {
        "id": "3cm4Sbn74hWK"
      },
      "outputs": [],
      "source": [
        "train_preds_DTR = best_tree.predict(X_train_r) \n",
        "test_preds_DTR = best_tree.predict(X_test_r) "
      ]
    },
    {
      "cell_type": "code",
      "execution_count": 117,
      "metadata": {
        "colab": {
          "base_uri": "https://localhost:8080/"
        },
        "id": "sjwrKV454jZg",
        "outputId": "8dfbbbd1-917c-48af-8226-f5116debc054"
      },
      "outputs": [
        {
          "name": "stdout",
          "output_type": "stream",
          "text": [
            "This is train R2 (DTR): 0.8352946086265224\n",
            "This is test R2 (DTR): 0.72706226289767\n"
          ]
        }
      ],
      "source": [
        "# 1) R2 value - for Decision Tree Regression\n",
        "print(\"This is train R2 (DTR):\", r2_score(y_train_r, train_preds_DTR)) # train\n",
        "print(\"This is test R2 (DTR):\", r2_score(y_test_r, test_preds_DTR)) # test\n",
        "#R2 is closer to 1 than 0, which is good"
      ]
    },
    {
      "cell_type": "code",
      "execution_count": 118,
      "metadata": {
        "colab": {
          "base_uri": "https://localhost:8080/"
        },
        "id": "u68aQbWd4lxL",
        "outputId": "7432c838-3c3e-4b7f-b2fe-bf43f8e8a98d"
      },
      "outputs": [
        {
          "name": "stdout",
          "output_type": "stream",
          "text": [
            "This is trainMAE (DTR): 26.269680000000005\n",
            "This is testMAE (DTR): 37.657809523809526\n"
          ]
        }
      ],
      "source": [
        "# 2) mae - for DT Regression\n",
        "trainMAE_DTR = mean_absolute_error(y_train_r, train_preds_DTR)\n",
        "print(\"This is trainMAE (DTR):\", trainMAE_DTR) # train\n",
        "testMAE_DTR = mean_absolute_error(y_test_r, test_preds_DTR)\n",
        "print(\"This is testMAE (DTR):\", testMAE_DTR) # test\n",
        "#MAE is good when it is closer to 0 between 0 and infinity, so this is good"
      ]
    },
    {
      "cell_type": "code",
      "execution_count": 119,
      "metadata": {
        "colab": {
          "base_uri": "https://localhost:8080/"
        },
        "id": "OH5eq8BP4pDg",
        "outputId": "b36aa4cc-4979-444f-a236-d3659efdfbeb"
      },
      "outputs": [
        {
          "name": "stdout",
          "output_type": "stream",
          "text": [
            "This is trainMSE (DTR): 1078.1888945333335\n",
            "This is testMSE (DTR): 2134.6476750476195\n"
          ]
        }
      ],
      "source": [
        "# 3) mse\n",
        "trainMSE_DTR = mean_squared_error(y_train_r, train_preds_DTR)\n",
        "print(\"This is trainMSE (DTR):\", trainMSE_DTR)\n",
        "testMSE_DTR = mean_squared_error(y_test_r, test_preds_DTR)\n",
        "print(\"This is testMSE (DTR):\", testMSE_DTR)\n",
        "#MSE is good when closer to 0 between 0 and infinity. It could be much larger, so the result is not ideal but not bad either. "
      ]
    },
    {
      "cell_type": "code",
      "execution_count": 129,
      "metadata": {
        "id": "TjJI42xr56pq"
      },
      "outputs": [],
      "source": [
        "#Now we do logistic regression"
      ]
    },
    {
      "cell_type": "code",
      "execution_count": 130,
      "metadata": {
        "id": "1EFJTE9E979H"
      },
      "outputs": [],
      "source": [
        "# Convert the dependent variable to binary\n",
        "df['EXP'] = np.where(df['EXP'] > df['EXP'].median(),\n",
        "                      1, # if true\n",
        "                      0) # if false"
      ]
    },
    {
      "cell_type": "code",
      "execution_count": 145,
      "metadata": {
        "colab": {
          "base_uri": "https://localhost:8080/"
        },
        "id": "yN6FEAox-Mdc",
        "outputId": "d717a57c-4976-4727-deca-d2fe776aa5ba"
      },
      "outputs": [
        {
          "data": {
            "text/plain": [
              "0     1\n",
              "1     1\n",
              "2     1\n",
              "3     1\n",
              "4     1\n",
              "5     1\n",
              "6     1\n",
              "7     1\n",
              "8     1\n",
              "9     1\n",
              "10    1\n",
              "11    1\n",
              "12    0\n",
              "13    1\n",
              "14    0\n",
              "15    0\n",
              "16    0\n",
              "17    0\n",
              "18    1\n",
              "19    0\n",
              "20    0\n",
              "21    0\n",
              "22    1\n",
              "23    0\n",
              "24    0\n",
              "25    1\n",
              "26    0\n",
              "27    0\n",
              "28    0\n",
              "29    0\n",
              "30    0\n",
              "31    0\n",
              "Name: EXP, dtype: int64"
            ]
          },
          "execution_count": 145,
          "metadata": {},
          "output_type": "execute_result"
        }
      ],
      "source": [
        "# Making sure the binary conversion worked - looks like it did\n",
        "df['EXP'].head(n=32)"
      ]
    },
    {
      "cell_type": "code",
      "execution_count": 133,
      "metadata": {
        "colab": {
          "base_uri": "https://localhost:8080/"
        },
        "id": "ozTPcu5e-OrW",
        "outputId": "13c01700-febb-4a69-f510-36fb011b1602"
      },
      "outputs": [
        {
          "name": "stdout",
          "output_type": "stream",
          "text": [
            "(32,)\n"
          ]
        }
      ],
      "source": [
        "\n",
        "Y = df['EXP']\n",
        "print(Y.shape) "
      ]
    },
    {
      "cell_type": "code",
      "execution_count": 135,
      "metadata": {
        "colab": {
          "base_uri": "https://localhost:8080/"
        },
        "id": "0GHAGcJ5-ak1",
        "outputId": "19e1122b-cca9-4efd-a5d2-e1dec2bff85f"
      },
      "outputs": [
        {
          "name": "stdout",
          "output_type": "stream",
          "text": [
            "(32, 21)\n"
          ]
        }
      ],
      "source": [
        "# everything else is X \n",
        "\n",
        "X = df.drop('EXP', axis=1)\n",
        "print(X.shape) "
      ]
    },
    {
      "cell_type": "code",
      "execution_count": 136,
      "metadata": {
        "id": "jMcHH8I6-jcp"
      },
      "outputs": [],
      "source": [
        "X_train, X_test, y_train, y_test = train_test_split(X, Y,\n",
        "                                                    test_size = 0.2,\n",
        "                                                    shuffle = True,\n",
        "                                                    random_state = 2037016)"
      ]
    },
    {
      "cell_type": "code",
      "execution_count": 137,
      "metadata": {
        "id": "hGNHEQAS-we4"
      },
      "outputs": [],
      "source": [
        "X_train = np.array(X_train)\n",
        "X_test = np.array(X_test)\n",
        "y_train = np.array(y_train)\n",
        "y_test = np.array(y_test)"
      ]
    },
    {
      "cell_type": "code",
      "execution_count": 138,
      "metadata": {
        "id": "LcqC0zLU-0-W"
      },
      "outputs": [],
      "source": [
        "scaler = MinMaxScaler()\n",
        "X_train = scaler.fit_transform(X_train)\n",
        "X_test = scaler.transform(X_test)"
      ]
    },
    {
      "cell_type": "code",
      "execution_count": 139,
      "metadata": {
        "id": "rnNwq0Hx-3PH"
      },
      "outputs": [],
      "source": [
        "# make a variable to store the general model\n",
        "LR = LogisticRegression() # use logistic for a classification problem\n",
        "# fit the model - one line of code\n",
        "LR = LR.fit(X_train, y_train) # always going to be (X_train, y_train)"
      ]
    },
    {
      "cell_type": "code",
      "execution_count": 140,
      "metadata": {
        "id": "f1ycWtWY-5CQ"
      },
      "outputs": [],
      "source": [
        "train_preds = LR.predict(X_train) \n",
        "test_preds = LR.predict(X_test) "
      ]
    },
    {
      "cell_type": "code",
      "execution_count": 141,
      "metadata": {
        "colab": {
          "base_uri": "https://localhost:8080/"
        },
        "id": "mgz-Nefo-7BF",
        "outputId": "7b75d1d8-4696-408a-bcf8-f8640d36ad15"
      },
      "outputs": [
        {
          "name": "stdout",
          "output_type": "stream",
          "text": [
            "TP: 11\n",
            "TN: 13\n",
            "FP: 0\n",
            "FN: 1\n"
          ]
        }
      ],
      "source": [
        "# here are tp, tn, fp, fn\n",
        "tn, fp, fn, tp = confusion_matrix(y_train, train_preds).ravel()\n",
        "print(\"TP:\", tp)\n",
        "print(\"TN:\", tn)\n",
        "print(\"FP:\", fp)\n",
        "print(\"FN:\", fn)"
      ]
    },
    {
      "cell_type": "code",
      "execution_count": 144,
      "metadata": {
        "id": "AL8KlHWJ_KaQ"
      },
      "outputs": [],
      "source": [
        "#This model seems effective, with 0 false positive and only 1 false negative"
      ]
    },
    {
      "cell_type": "code",
      "execution_count": 142,
      "metadata": {
        "colab": {
          "base_uri": "https://localhost:8080/"
        },
        "id": "aZMLBCAu-_S7",
        "outputId": "a4475da7-5378-40ea-c3c1-3c832ca72375"
      },
      "outputs": [
        {
          "name": "stdout",
          "output_type": "stream",
          "text": [
            "              precision    recall  f1-score   support\n",
            "\n",
            "           0       0.93      1.00      0.96        13\n",
            "           1       1.00      0.92      0.96        12\n",
            "\n",
            "    accuracy                           0.96        25\n",
            "   macro avg       0.96      0.96      0.96        25\n",
            "weighted avg       0.96      0.96      0.96        25\n",
            "\n"
          ]
        }
      ],
      "source": [
        "\n",
        "\n",
        "# train results\n",
        "trainResults = classification_report(y_train, train_preds) # (actual, predicted)\n",
        "print(trainResults)"
      ]
    },
    {
      "cell_type": "code",
      "execution_count": 143,
      "metadata": {
        "id": "T57VFw9X_GWB"
      },
      "outputs": [],
      "source": [
        "#This model has an accuracy of 96%"
      ]
    }
  ],
  "metadata": {
    "colab": {
      "collapsed_sections": [],
      "name": "TBJ_OPIMProject.ipynb",
      "provenance": []
    },
    "kernelspec": {
      "display_name": "Python 3",
      "name": "python3"
    },
    "language_info": {
      "name": "python"
    }
  },
  "nbformat": 4,
  "nbformat_minor": 0
}
